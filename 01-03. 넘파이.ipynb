{
 "cells": [
  {
   "cell_type": "markdown",
   "id": "f9ea764f",
   "metadata": {},
   "source": [
    "# 03. 넘파이"
   ]
  },
  {
   "cell_type": "markdown",
   "id": "90fcb628",
   "metadata": {},
   "source": [
    "## 넘파이 ndarray 개요"
   ]
  },
  {
   "cell_type": "code",
   "execution_count": 1,
   "id": "82fc8644",
   "metadata": {},
   "outputs": [],
   "source": [
    "import numpy as np"
   ]
  },
  {
   "cell_type": "markdown",
   "id": "1628bc5f",
   "metadata": {},
   "source": [
    "**ndarray.shape**: ndarray의 shape을 tuple 형식으로 return"
   ]
  },
  {
   "cell_type": "code",
   "execution_count": 2,
   "id": "eafd5a87",
   "metadata": {},
   "outputs": [
    {
     "name": "stdout",
     "output_type": "stream",
     "text": [
      "array1 type: <class 'numpy.ndarray'>\n",
      "array1 array 형태: (3,)\n",
      "array2 type: <class 'numpy.ndarray'>\n",
      "array2 array 형태: (2, 3)\n",
      "array3 type: <class 'numpy.ndarray'>\n",
      "array3 array 형태: (1, 3)\n"
     ]
    }
   ],
   "source": [
    "array1 = np.array([1, 2, 3])\n",
    "print('array1 type:', type(array1))\n",
    "print('array1 array 형태:', array1.shape)\n",
    "\n",
    "array2 = np.array([[1, 2, 3], [2, 3, 4]])\n",
    "print('array2 type:', type(array2))\n",
    "print('array2 array 형태:', array2.shape)\n",
    "\n",
    "array3 = np.array([[1, 2, 3]])\n",
    "print('array3 type:', type(array3))\n",
    "print('array3 array 형태:', array3.shape)"
   ]
  },
  {
   "cell_type": "markdown",
   "id": "ec78d14a",
   "metadata": {},
   "source": [
    "- array1 array 형태: (3,) -> 1차원 array로 3개의 데이터를 가지고 있음  \n",
    "- array2 array 형태: (2, 3) -> 2차월 array로 2개의 low와 3개의 col으로 구성되어 $2*3=6$개의 데이터를 가지고 있음  \n",
    "- array3 array 형태: (1, 3) -> 2차원 array로 1개의 low와 3개의 col으로 구성되어 $1*3=3$개의 데이터를 가지고 있음\n",
    "\n",
    "**array1과 array3의 차원의 차이를 명확히 이해할 것!**"
   ]
  },
  {
   "cell_type": "markdown",
   "id": "5f18b767",
   "metadata": {},
   "source": [
    "### 차원 확인"
   ]
  },
  {
   "cell_type": "markdown",
   "id": "41e7c496",
   "metadata": {},
   "source": [
    "**ndarray.ndim**: ndarray의 차원 **값**을 return"
   ]
  },
  {
   "cell_type": "code",
   "execution_count": 4,
   "id": "df0d0acc",
   "metadata": {},
   "outputs": [
    {
     "name": "stdout",
     "output_type": "stream",
     "text": [
      "array1: 1차원, array2: 2차원, array3: 2차원\n"
     ]
    }
   ],
   "source": [
    "print('array1: {0}차원, array2: {1}차원, array3: {2}차원'.format(array1.ndim, array2.ndim, array3.ndim))"
   ]
  },
  {
   "cell_type": "markdown",
   "id": "c935cb7f",
   "metadata": {},
   "source": [
    "## ndarray의 데이터 타입"
   ]
  },
  {
   "cell_type": "markdown",
   "id": "6c37cf82",
   "metadata": {},
   "source": [
    "ndarray내의 데이터 타입은 그 연산의 특성상 **같은 데이터 타입**만 가능함\n",
    "\n",
    "**ndarray.dtype**:ndarray내의 데이터타입 return"
   ]
  },
  {
   "cell_type": "code",
   "execution_count": 6,
   "id": "1697e6eb",
   "metadata": {},
   "outputs": [
    {
     "name": "stdout",
     "output_type": "stream",
     "text": [
      "<class 'list'>\n",
      "<class 'numpy.ndarray'>\n",
      "[1 2 3] int64\n"
     ]
    }
   ],
   "source": [
    "list1 = [1, 2, 3]\n",
    "print(type(list1))\n",
    "array1 = np.array(list1)\n",
    "print(type(array1))\n",
    "print(array1, array1.dtype)"
   ]
  },
  {
   "cell_type": "markdown",
   "id": "d168465f",
   "metadata": {},
   "source": [
    "만약 다른 데이터 유형이 섞여 있는 리스트를 ndarray로 변경하면 데이터 크기가 더 큰 데이터 타입으로 형 변환을 일괄 적용"
   ]
  },
  {
   "cell_type": "code",
   "execution_count": 7,
   "id": "5ed0fccc",
   "metadata": {},
   "outputs": [
    {
     "name": "stdout",
     "output_type": "stream",
     "text": [
      "['1' '2' 'test'] <U21\n",
      "[1. 2. 3.] float64\n"
     ]
    }
   ],
   "source": [
    "list2 = [1, 2, 'test']\n",
    "array2 = np.array(list2)\n",
    "print(array2, array2.dtype)\n",
    "\n",
    "list3 = [1, 2, 3.0]\n",
    "array3 = np.array(list3)\n",
    "print(array3, array3.dtype)"
   ]
  },
  {
   "cell_type": "markdown",
   "id": "7de1ca68",
   "metadata": {},
   "source": [
    "**ndarray.astype(<data_type>)**\n",
    "\n",
    "ndarray 내 데이터값의 타입 변경도 astype() 메서드를 통해 할 수 있음   \n",
    "주로 메모리 절약을 목적으로 함 (ex. float -> int)"
   ]
  },
  {
   "cell_type": "code",
   "execution_count": 8,
   "id": "712ab18a",
   "metadata": {},
   "outputs": [
    {
     "name": "stdout",
     "output_type": "stream",
     "text": [
      "[1 2 3] int64\n",
      "[1. 2. 3.] float64\n",
      "[1 2 3] int32\n"
     ]
    }
   ],
   "source": [
    "array_int = np.array([1, 2, 3])\n",
    "print(array_int, array_int.dtype)\n",
    "\n",
    "array_float = array_int.astype('float64')\n",
    "print(array_float, array_float.dtype)\n",
    "\n",
    "array_int1 = array_float.astype('int32')\n",
    "print(array_int1, array_int1.dtype)"
   ]
  },
  {
   "cell_type": "code",
   "execution_count": 9,
   "id": "56718b49",
   "metadata": {},
   "outputs": [
    {
     "name": "stdout",
     "output_type": "stream",
     "text": [
      "[1.1 2.1 3.1] float64\n",
      "[1 2 3] int32\n"
     ]
    }
   ],
   "source": [
    "array_float1 = np.array([1.1, 2.1, 3.1])\n",
    "print(array_float1, array_float1.dtype)\n",
    "\n",
    "array_int2 = array_float1.astype('int32')\n",
    "print(array_int2, array_int2.dtype)"
   ]
  },
  {
   "cell_type": "markdown",
   "id": "31b38e0e",
   "metadata": {},
   "source": [
    "## ndarray를 편리하게 생성하기 - arange, zeros, ones"
   ]
  },
  {
   "cell_type": "markdown",
   "id": "cbc36cf4",
   "metadata": {},
   "source": [
    "ndarray를 연속값이나 0 또는 1로 초기화해 쉽게 생성할 수 있음  \n",
    "주로 테스트용으로 데이터를 만들거나 대규모의 데이터를 일괄적으로 초기화할 때 사용  "
   ]
  },
  {
   "cell_type": "markdown",
   "id": "8d5f557c",
   "metadata": {},
   "source": [
    "**arange(n)**: 0~n까지 값의 ndarray return (start, stop 값을 지정할 수도 있음)"
   ]
  },
  {
   "cell_type": "code",
   "execution_count": 11,
   "id": "9afea81e",
   "metadata": {},
   "outputs": [
    {
     "name": "stdout",
     "output_type": "stream",
     "text": [
      "[0 1 2 3 4 5 6 7 8 9]\n",
      "int64 (10,)\n"
     ]
    }
   ],
   "source": [
    "sequence_array = np.arange(10)\n",
    "print(sequence_array)\n",
    "print(sequence_array.dtype, sequence_array.shape)"
   ]
  },
  {
   "cell_type": "markdown",
   "id": "40721d04",
   "metadata": {},
   "source": [
    "**zeros(<shape=(,)>, <dtype='float64'>)**: 모든 인자가 0인 ndarray return"
   ]
  },
  {
   "cell_type": "code",
   "execution_count": 12,
   "id": "ee7c4106",
   "metadata": {},
   "outputs": [
    {
     "name": "stdout",
     "output_type": "stream",
     "text": [
      "[[0 0]\n",
      " [0 0]\n",
      " [0 0]]\n",
      "int32 (3, 2)\n"
     ]
    }
   ],
   "source": [
    "zero_array = np.zeros((3, 2), dtype='int32')\n",
    "print(zero_array)\n",
    "print(zero_array.dtype, zero_array.shape)"
   ]
  },
  {
   "cell_type": "markdown",
   "id": "84c6bfdc",
   "metadata": {},
   "source": [
    "**ones(<shape=(,)>, <dtype='float64'>)**: 모든 인자가 1인 ndarray return"
   ]
  },
  {
   "cell_type": "code",
   "execution_count": 13,
   "id": "1cdff688",
   "metadata": {},
   "outputs": [
    {
     "name": "stdout",
     "output_type": "stream",
     "text": [
      "[[1. 1.]\n",
      " [1. 1.]\n",
      " [1. 1.]]\n",
      "float64 (3, 2)\n"
     ]
    }
   ],
   "source": [
    "one_array = np.ones((3, 2))\n",
    "print(one_array)\n",
    "print(one_array.dtype, one_array.shape)"
   ]
  },
  {
   "cell_type": "markdown",
   "id": "9fb86022",
   "metadata": {},
   "source": [
    "## ndarray의 차원과 크기를 변경하는 reshape()"
   ]
  },
  {
   "cell_type": "markdown",
   "id": "4151c485",
   "metadata": {},
   "source": [
    "**ndarray.reshape(<shape=(,)>)**"
   ]
  },
  {
   "cell_type": "code",
   "execution_count": 14,
   "id": "0b86422e",
   "metadata": {},
   "outputs": [
    {
     "name": "stdout",
     "output_type": "stream",
     "text": [
      "array1:\n",
      " [0 1 2 3 4 5 6 7 8 9]\n",
      "array2:\n",
      " [[0 1 2 3 4]\n",
      " [5 6 7 8 9]]\n",
      "array3:\n",
      " [[0 1]\n",
      " [2 3]\n",
      " [4 5]\n",
      " [6 7]\n",
      " [8 9]]\n"
     ]
    }
   ],
   "source": [
    "array1 = np.arange(10)\n",
    "print('array1:\\n', array1)\n",
    "\n",
    "array2 = array1.reshape(2, 5)\n",
    "print('array2:\\n', array2)\n",
    "\n",
    "array3 = array1.reshape(5, 2)\n",
    "print('array3:\\n', array3)"
   ]
  },
  {
   "cell_type": "code",
   "execution_count": 16,
   "id": "cb75d725",
   "metadata": {},
   "outputs": [
    {
     "ename": "ValueError",
     "evalue": "cannot reshape array of size 10 into shape (4,3)",
     "output_type": "error",
     "traceback": [
      "\u001b[0;31m---------------------------------------------------------------------------\u001b[0m",
      "\u001b[0;31mValueError\u001b[0m                                Traceback (most recent call last)",
      "Cell \u001b[0;32mIn[16], line 1\u001b[0m\n\u001b[0;32m----> 1\u001b[0m \u001b[43marray1\u001b[49m\u001b[38;5;241;43m.\u001b[39;49m\u001b[43mreshape\u001b[49m\u001b[43m(\u001b[49m\u001b[38;5;241;43m4\u001b[39;49m\u001b[43m,\u001b[49m\u001b[43m \u001b[49m\u001b[38;5;241;43m3\u001b[39;49m\u001b[43m)\u001b[49m\n",
      "\u001b[0;31mValueError\u001b[0m: cannot reshape array of size 10 into shape (4,3)"
     ]
    }
   ],
   "source": [
    "array1.reshape(4, 3)"
   ]
  },
  {
   "cell_type": "markdown",
   "id": "d2026694",
   "metadata": {},
   "source": [
    "변환할 수 없는 경우 ValueError 발생"
   ]
  },
  {
   "cell_type": "markdown",
   "id": "c5a9c808",
   "metadata": {},
   "source": [
    "-1을 인자로 사용하면 원래 ndarray와 호환되는 새로운 shape로 변환됨  \n",
    "마치 자동 완성!"
   ]
  },
  {
   "cell_type": "code",
   "execution_count": 18,
   "id": "7f7e1632",
   "metadata": {},
   "outputs": [
    {
     "name": "stdout",
     "output_type": "stream",
     "text": [
      "[0 1 2 3 4 5 6 7 8 9]\n",
      "[[0 1 2 3 4]\n",
      " [5 6 7 8 9]]\n",
      "array2 shape: (2, 5)\n",
      "[[0 1]\n",
      " [2 3]\n",
      " [4 5]\n",
      " [6 7]\n",
      " [8 9]]\n",
      "array3 shape: (5, 2)\n"
     ]
    }
   ],
   "source": [
    "array1 = np.arange(10)\n",
    "print(array1)\n",
    "array2 = array1.reshape(-1, 5)\n",
    "print(array2)\n",
    "print('array2 shape:', array2.shape)\n",
    "array3 = array1.reshape(5, -1)\n",
    "print(array3)\n",
    "print('array3 shape:', array3.shape)"
   ]
  },
  {
   "cell_type": "code",
   "execution_count": 19,
   "id": "a47e8a1b",
   "metadata": {},
   "outputs": [
    {
     "ename": "ValueError",
     "evalue": "cannot reshape array of size 10 into shape (4)",
     "output_type": "error",
     "traceback": [
      "\u001b[0;31m---------------------------------------------------------------------------\u001b[0m",
      "\u001b[0;31mValueError\u001b[0m                                Traceback (most recent call last)",
      "Cell \u001b[0;32mIn[19], line 2\u001b[0m\n\u001b[1;32m      1\u001b[0m array1 \u001b[38;5;241m=\u001b[39m np\u001b[38;5;241m.\u001b[39marange(\u001b[38;5;241m10\u001b[39m)\n\u001b[0;32m----> 2\u001b[0m array4 \u001b[38;5;241m=\u001b[39m \u001b[43marray1\u001b[49m\u001b[38;5;241;43m.\u001b[39;49m\u001b[43mreshape\u001b[49m\u001b[43m(\u001b[49m\u001b[38;5;241;43m-\u001b[39;49m\u001b[38;5;241;43m1\u001b[39;49m\u001b[43m,\u001b[49m\u001b[43m \u001b[49m\u001b[38;5;241;43m4\u001b[39;49m\u001b[43m)\u001b[49m\n",
      "\u001b[0;31mValueError\u001b[0m: cannot reshape array of size 10 into shape (4)"
     ]
    }
   ],
   "source": [
    "array1 = np.arange(10)\n",
    "array4 = array1.reshape(-1, 4)"
   ]
  },
  {
   "cell_type": "markdown",
   "id": "816abfb3",
   "metadata": {},
   "source": [
    "마찬가지로, 변환할 수 없는 경우 ValueError 발생"
   ]
  },
  {
   "cell_type": "markdown",
   "id": "3103a1aa",
   "metadata": {},
   "source": [
    "(-1, 1)로 reshape하는 경우, n*1 형태의 ndarray로 변환됨  \n",
    "stack이나 concat 시 유용함"
   ]
  },
  {
   "cell_type": "code",
   "execution_count": 20,
   "id": "5e6590d2",
   "metadata": {},
   "outputs": [
    {
     "name": "stdout",
     "output_type": "stream",
     "text": [
      "array3d:\n",
      " [[[0, 1], [2, 3]], [[4, 5], [6, 7]]]\n",
      "array5:\n",
      " [[0], [1], [2], [3], [4], [5], [6], [7]]\n",
      "array5 shape: (8, 1)\n",
      "array6:\n",
      " [[0], [1], [2], [3], [4], [5], [6], [7]]\n",
      "array6 shape: (8, 1)\n"
     ]
    }
   ],
   "source": [
    "array1 = np.arange(8)\n",
    "array3d = array1.reshape((2, 2, 2))\n",
    "print('array3d:\\n', array3d.tolist())\n",
    "\n",
    "# 3차원 ndarray를 2차원 ndarray로 변환\n",
    "array5 = array3d.reshape(-1, 1)\n",
    "print('array5:\\n', array5.tolist())\n",
    "print('array5 shape:', array5.shape)\n",
    "\n",
    "# 1차원 ndarray를 2차원 ndarray로 변환\n",
    "array6 = array1.reshape(-1, 1)\n",
    "print('array6:\\n', array6.tolist())\n",
    "print('array6 shape:', array6.shape)"
   ]
  },
  {
   "cell_type": "markdown",
   "id": "494e92c9",
   "metadata": {},
   "source": [
    "## 넘파이의 ndarray의 데이터 세트 선택하기 - 인덱싱(Indexing)"
   ]
  },
  {
   "cell_type": "markdown",
   "id": "67ae8258",
   "metadata": {},
   "source": [
    "1. 특정한 데이터만 추출  \n",
    "2. 슬라이싱(Slicing)\n",
    "3. 팬시 인덱싱(Fancy Indexing)\n",
    "4. 불린 인덱싱(Boolean Indexing)"
   ]
  },
  {
   "cell_type": "markdown",
   "id": "d10257ef",
   "metadata": {},
   "source": [
    "### 1. 단일 값 추출"
   ]
  },
  {
   "cell_type": "code",
   "execution_count": null,
   "id": "9082fff5",
   "metadata": {},
   "outputs": [
    {
     "name": "stdout",
     "output_type": "stream",
     "text": [
      "array1: [1 2 3 4 5 6 7 8 9]\n",
      "value: 3\n",
      "<class 'numpy.int32'>\n"
     ]
    }
   ],
   "source": [
    "# 1부터 9까지의 1차원 ndarray 생성\n",
    "array1 = np.arange(start=1, stop=10)\n",
    "print('array1:', array1)\n",
    "\n",
    "# index는 0부터 시작하므로 array1[2]는 3번째 index 위치의 데이터값을 의미\n",
    "value = array1[2]\n",
    "print('value:', value)\n",
    "print(type(value))"
   ]
  },
  {
   "cell_type": "markdown",
   "id": "6049ab79",
   "metadata": {},
   "source": [
    "인덱스 -1은 맨 뒤의 데이터값, -2는 맨 뒤에서 두 번째에 있는 데이터값"
   ]
  },
  {
   "cell_type": "code",
   "execution_count": null,
   "id": "f272a5f1",
   "metadata": {},
   "outputs": [
    {
     "name": "stdout",
     "output_type": "stream",
     "text": [
      "맨 뒤의 값: 9 , 맨 뒤에서 두 번째 값: 8\n"
     ]
    }
   ],
   "source": [
    "print('맨 뒤의 값:', array1[-1], ', 맨 뒤에서 두 번째 값:', array1[-2])"
   ]
  },
  {
   "cell_type": "markdown",
   "id": "5b24df54",
   "metadata": {},
   "source": [
    "단일 인덱스를 이용해 ndarray 내의 데이터값도 간단히 수정 가능함"
   ]
  },
  {
   "cell_type": "code",
   "execution_count": null,
   "id": "ae1847bd",
   "metadata": {},
   "outputs": [
    {
     "name": "stdout",
     "output_type": "stream",
     "text": [
      "array1: [9 2 3 4 5 6 7 8 0]\n"
     ]
    }
   ],
   "source": [
    "array1[0] = 9\n",
    "array1[8] = 0\n",
    "print('array1:', array1)"
   ]
  },
  {
   "cell_type": "markdown",
   "id": "8ae54998",
   "metadata": {},
   "source": [
    "다차원 ndarray에서 단일값을 추출  \n",
    "1차원과 2차원 ndarray에서의 데이터 접근의 차이는 2차원의 경우 콤마(,)로 분리된 로우와 칼럼 위치의 인덱스를 통해 접근하는 것"
   ]
  },
  {
   "cell_type": "code",
   "execution_count": null,
   "id": "ace6b892",
   "metadata": {},
   "outputs": [
    {
     "name": "stdout",
     "output_type": "stream",
     "text": [
      "[[1 2 3]\n",
      " [4 5 6]\n",
      " [7 8 9]]\n",
      "(row=0, col=0) index 가리키는 값: 1\n",
      "(row=0, col=1) index 가리키는 값: 2\n",
      "(row=1, col=0) index 가리키는 값: 4\n",
      "(row=2, col=2) index 가리키는 값: 9\n"
     ]
    }
   ],
   "source": [
    "array1d = np.arange(start=1, stop=10)\n",
    "array2d = array1d.reshape(3, 3)\n",
    "print(array2d)\n",
    "\n",
    "print('(row=0, col=0) index 가리키는 값:', array2d[0, 0])\n",
    "print('(row=0, col=1) index 가리키는 값:', array2d[0, 1])\n",
    "print('(row=1, col=0) index 가리키는 값:', array2d[1, 0])\n",
    "print('(row=2, col=2) index 가리키는 값:', array2d[2, 2])"
   ]
  },
  {
   "cell_type": "markdown",
   "id": "f536af73",
   "metadata": {},
   "source": [
    "하지만, **로우와 칼럼은 넘파이 ndarray에서는 사용되지 않는 표현!**  \n",
    "정확한 표현은 axis 0, axis 1, axis 2, ..."
   ]
  },
  {
   "cell_type": "markdown",
   "id": "a4deac25",
   "metadata": {},
   "source": [
    "### 2. 슬라이싱"
   ]
  },
  {
   "cell_type": "markdown",
   "id": "8d2ea2c5",
   "metadata": {},
   "source": [
    "단일 데이터값 추출을 제외 슬라이싱, 팬시 인덱싱, 불린 인덱싱으로 추출된 데이터 세트는 모두 ndarray 타입으로 return"
   ]
  },
  {
   "cell_type": "code",
   "execution_count": 21,
   "id": "7f03a136",
   "metadata": {},
   "outputs": [
    {
     "name": "stdout",
     "output_type": "stream",
     "text": [
      "[1 2 3 4 5 6 7 8 9]\n",
      "[1 2 3]\n",
      "<class 'numpy.ndarray'>\n"
     ]
    }
   ],
   "source": [
    "array1 = np.arange(start=1, stop=10)\n",
    "array3 = array1[0:3]\n",
    "print(array1)\n",
    "print(array3)\n",
    "print(type(array3))"
   ]
  },
  {
   "cell_type": "markdown",
   "id": "67affdad",
   "metadata": {},
   "source": [
    "슬라이싱 기호 ':' 사이의 시작, 종료 인덱스는 생략 가능\n",
    "\n",
    "1. ':' 기호 앞에 시작 인덱스를 생략하면 자동으로 맨 처음 인덱스인 0\n",
    "2. ':' 기호 위에 종료 인덱스를 생략하면 자동으로 맨 마지막 인덱스\n",
    "3. ':' 기호 앞/뒤에 시작/종료 인덱스를 생략하면 자동으로 맨 처음/맨 마지막 인덱스"
   ]
  },
  {
   "cell_type": "code",
   "execution_count": null,
   "id": "284a52d4",
   "metadata": {},
   "outputs": [
    {
     "name": "stdout",
     "output_type": "stream",
     "text": [
      "[1 2 3]\n",
      "[4 5 6 7 8 9]\n",
      "[1 2 3 4 5 6 7 8 9]\n"
     ]
    }
   ],
   "source": [
    "array1 = np.arange(start=1, stop=10)\n",
    "array4 = array1[:3]\n",
    "print(array4)\n",
    "\n",
    "array5 = array1[3:]\n",
    "print(array5)\n",
    "\n",
    "array6 = array1[:]\n",
    "print(array6)"
   ]
  },
  {
   "cell_type": "markdown",
   "id": "baa2efae",
   "metadata": {},
   "source": [
    "2차원 ndarray에서의 슬라이싱도 1차원 ndarray에서의 슬라이싱과 유사하며, 콤마(,)로 로우와 칼럼 인덱스를 지칭하는 부분만 다름"
   ]
  },
  {
   "cell_type": "code",
   "execution_count": null,
   "id": "0f1a55e3",
   "metadata": {},
   "outputs": [
    {
     "name": "stdout",
     "output_type": "stream",
     "text": [
      "array2d:\n",
      " [[1 2 3]\n",
      " [4 5 6]\n",
      " [7 8 9]]\n",
      "array2d[0:2, 0:2]\n",
      " [[1 2]\n",
      " [4 5]]\n",
      "array2d[1:3, 0:3]\n",
      " [[4 5 6]\n",
      " [7 8 9]]\n",
      "array2d[1:3, :]\n",
      " [[4 5 6]\n",
      " [7 8 9]]\n",
      "array2d[:, :]\n",
      " [[1 2 3]\n",
      " [4 5 6]\n",
      " [7 8 9]]\n",
      "array2d[:2, 1:]\n",
      " [[2 3]\n",
      " [5 6]]\n",
      "array2d[:2, 0]\n",
      " [1 4]\n"
     ]
    }
   ],
   "source": [
    "array1d = np.arange(start=1, stop=10)\n",
    "array2d = array1d.reshape(3, 3)\n",
    "print('array2d:\\n', array2d)\n",
    "\n",
    "print('array2d[0:2, 0:2]\\n', array2d[0:2, 0:2])\n",
    "print('array2d[1:3, 0:3]\\n', array2d[1:3, 0:3])\n",
    "print('array2d[1:3, :]\\n', array2d[1:3, :])\n",
    "print('array2d[:, :]\\n', array2d[:, :])\n",
    "print('array2d[:2, 1:]\\n', array2d[:2, 1:])\n",
    "print('array2d[:2, 0]\\n', array2d[:2, 0])"
   ]
  },
  {
   "cell_type": "markdown",
   "id": "355258bc",
   "metadata": {},
   "source": [
    "n차원 ndarray에서 뒤에 오는 인덱스를 없애면 n-1차원 ndarray를 return"
   ]
  },
  {
   "cell_type": "code",
   "execution_count": null,
   "id": "1b4c0ba1",
   "metadata": {},
   "outputs": [
    {
     "name": "stdout",
     "output_type": "stream",
     "text": [
      "[1 2 3]\n",
      "[4 5 6]\n",
      "array2d[0] shape: (3,) array2d[1] shape: (3,)\n"
     ]
    }
   ],
   "source": [
    "print(array2d[0])\n",
    "print(array2d[1])\n",
    "print('array2d[0] shape:', array2d[0].shape, 'array2d[1] shape:', array2d[1].shape)"
   ]
  },
  {
   "cell_type": "markdown",
   "id": "babc0c38",
   "metadata": {},
   "source": [
    "### 3. 팬시 인덱싱"
   ]
  },
  {
   "cell_type": "markdown",
   "id": "97ce8101",
   "metadata": {},
   "source": [
    "리스트나 ndarray로 인덱스 집합을 지정하면 해당 위치의 인덱스에 해당하는 ndarray를 return"
   ]
  },
  {
   "cell_type": "code",
   "execution_count": 24,
   "id": "eb4a1022",
   "metadata": {},
   "outputs": [
    {
     "name": "stdout",
     "output_type": "stream",
     "text": [
      "[[1 2 3]\n",
      " [4 5 6]\n",
      " [7 8 9]]\n",
      "array2d[[0, 1], 2] => [3, 6]\n",
      "array2d[[0, 1], 0:2] => [[1, 2], [4, 5]]\n",
      "array2d[[0, 1]] => [[1, 2, 3], [4, 5, 6]]\n"
     ]
    }
   ],
   "source": [
    "array1d = np.arange(start=1, stop=10)\n",
    "array2d = array1d.reshape(3, 3)\n",
    "print(array2d)\n",
    "\n",
    "array3= array2d[[0, 1], 2]\n",
    "print('array2d[[0, 1], 2] =>', array3.tolist())\n",
    "\n",
    "array4= array2d[[0, 1], 0:2]\n",
    "print('array2d[[0, 1], 0:2] =>', array4.tolist())\n",
    "\n",
    "array5= array2d[[0, 1]]\n",
    "print('array2d[[0, 1]] =>', array5.tolist())"
   ]
  },
  {
   "cell_type": "markdown",
   "id": "5de6fdcc",
   "metadata": {},
   "source": [
    "### 4. 불린 인덱싱"
   ]
  },
  {
   "cell_type": "markdown",
   "id": "2883ebe4",
   "metadata": {},
   "source": [
    "조건 필터링과 검색을 동시에 할 수 있음"
   ]
  },
  {
   "cell_type": "code",
   "execution_count": null,
   "id": "d01efcba",
   "metadata": {},
   "outputs": [
    {
     "name": "stdout",
     "output_type": "stream",
     "text": [
      "array1d > 5 불린 인덱싱 결과 값: [6 7 8 9]\n"
     ]
    }
   ],
   "source": [
    "array1d = np.arange(start=1, stop=10)\n",
    "# [] 안에 array1d > 5 Boolean indexing을 적용\n",
    "array3 = array1d[array1d > 5]\n",
    "print('array1d > 5 불린 인덱싱 결과 값:', array3)"
   ]
  },
  {
   "cell_type": "code",
   "execution_count": null,
   "id": "4b7d9514",
   "metadata": {},
   "outputs": [
    {
     "data": {
      "text/plain": [
       "array([False, False, False, False, False,  True,  True,  True,  True])"
      ]
     },
     "execution_count": 45,
     "metadata": {},
     "output_type": "execute_result"
    }
   ],
   "source": [
    "array1d > 5"
   ]
  },
  {
   "cell_type": "code",
   "execution_count": null,
   "id": "75681a4f",
   "metadata": {},
   "outputs": [
    {
     "name": "stdout",
     "output_type": "stream",
     "text": [
      "불린 인덱스로 필터링 결과: [6 7 8 9]\n"
     ]
    }
   ],
   "source": [
    "boolean_indexes = np.array([False, False, False, False, False, True, True, True, True])\n",
    "array3 = array1d[boolean_indexes]\n",
    "print('불린 인덱스로 필터링 결과:', array3)"
   ]
  },
  {
   "cell_type": "markdown",
   "id": "2873b58f",
   "metadata": {},
   "source": [
    "불린 인덱싱이 동작하는 단계\n",
    "\n",
    "1. array1d > 5와 같이 ndarray의 필터링 조건을 [] 안에 기재\n",
    "2. False 값은 무시하고 True 값에 해당하는 인덱스 값만 저장(유의해야 할 사항은 True값 자체인 1을 저장하는 것이 아니라 True값을 가진 인덱스를 저장한다는 것)\n",
    "3. 저장된 인덱스 데이터 세트로 ndarray 조회"
   ]
  },
  {
   "cell_type": "markdown",
   "id": "5b978df1",
   "metadata": {},
   "source": [
    "## 행렬의 정렬 - sort()와 argsort()"
   ]
  },
  {
   "cell_type": "markdown",
   "id": "81b85000",
   "metadata": {},
   "source": [
    "### 행렬 정렬"
   ]
  },
  {
   "cell_type": "markdown",
   "id": "f2202bc7",
   "metadata": {},
   "source": [
    "**np.sort()**: 원 행렬은 그대로 유지한 채 원 행렬의 정렬된 행렬 return  \n",
    "**ndarray.sort()**: 원 행렬 자체를 정렬한 형태로 return, 반환 값은 None"
   ]
  },
  {
   "cell_type": "code",
   "execution_count": null,
   "id": "361d2e0e",
   "metadata": {},
   "outputs": [
    {
     "name": "stdout",
     "output_type": "stream",
     "text": [
      "원본 행렬: [3 1 9 5] \n",
      "\n",
      "np.sort() 호출 후 반환된 정렬 행렬: [1 3 5 9]\n",
      "np.sort() 호출 후 원본 행렬: [3 1 9 5] \n",
      "\n",
      "org_array.sort() 호출 후 반환된 정렬 행렬: None\n",
      "org_array.sort() 호출 후 원본 행렬: [1 3 5 9]\n"
     ]
    }
   ],
   "source": [
    "org_array = np.array([3, 1, 9, 5])\n",
    "print('원본 행렬:', org_array, '\\n')\n",
    "\n",
    "#np.sort()로 정렬\n",
    "sort_array1 = np.sort(org_array)\n",
    "print('np.sort() 호출 후 반환된 정렬 행렬:', sort_array1)\n",
    "print('np.sort() 호출 후 원본 행렬:', org_array, '\\n')\n",
    "\n",
    "#ndarray.sort()로 정렬\n",
    "sort_array2 = org_array.sort()\n",
    "print('org_array.sort() 호출 후 반환된 정렬 행렬:', sort_array2)\n",
    "print('org_array.sort() 호출 후 원본 행렬:', org_array)"
   ]
  },
  {
   "cell_type": "markdown",
   "id": "b1aa8758",
   "metadata": {},
   "source": [
    "내림차순으로 정렬하기 위해서는 [::-1]을 적용한다."
   ]
  },
  {
   "cell_type": "code",
   "execution_count": null,
   "id": "7cd60562",
   "metadata": {},
   "outputs": [
    {
     "name": "stdout",
     "output_type": "stream",
     "text": [
      "내림차순으로 정렬: [9 5 3 1]\n"
     ]
    }
   ],
   "source": [
    "sort_array1_desc = np.sort(org_array)[::-1]\n",
    "print('내림차순으로 정렬:', sort_array1_desc)"
   ]
  },
  {
   "cell_type": "markdown",
   "id": "3ed42d06",
   "metadata": {},
   "source": [
    "행렬이 2차원 이상일 경우에 axis 축 값 설정을 통해 로우 방향, 또는 칼럼 방향으로 정렬을 수행할 수 있다."
   ]
  },
  {
   "cell_type": "code",
   "execution_count": 14,
   "id": "65b9e29a",
   "metadata": {},
   "outputs": [
    {
     "name": "stdout",
     "output_type": "stream",
     "text": [
      "로우 방향(↓)으로 정렬:\n",
      " [[ 7  1]\n",
      " [ 8 12]]\n",
      "칼럼 방향(→)으로 정렬:\n",
      " [[ 8 12]\n",
      " [ 1  7]]\n"
     ]
    }
   ],
   "source": [
    "array2d = np.array([[8, 12],\n",
    "                    [7, 1]])\n",
    "\n",
    "sort_array2d_axis0 = np.sort(array2d, axis=0)\n",
    "print('로우 방향(↓)으로 정렬:\\n', sort_array2d_axis0)\n",
    "\n",
    "sort_array2d_axis1 = np.sort(array2d, axis=1)\n",
    "print('칼럼 방향(→)으로 정렬:\\n', sort_array2d_axis1)"
   ]
  },
  {
   "cell_type": "markdown",
   "id": "ff57e038",
   "metadata": {},
   "source": [
    "### 정렬된 행렬의 인덱스를 반환하기"
   ]
  },
  {
   "cell_type": "markdown",
   "id": "e43ba21b",
   "metadata": {},
   "source": [
    "원본 행렬이 정렬되었을 때 기존 원본 행렬의 원소에 대한 인덱스를 필요로 할 때 np.argsort()를 이용한다. np.argsort()는 정렬 행렬의 원본 행렬 인덱스를 ndarray형으로 반환한다."
   ]
  },
  {
   "cell_type": "code",
   "execution_count": 15,
   "id": "0e2b7e0f",
   "metadata": {},
   "outputs": [
    {
     "name": "stdout",
     "output_type": "stream",
     "text": [
      "<class 'numpy.ndarray'>\n",
      "행렬 정렬 시 원본 행렬의 인덱스: [1 0 3 2]\n"
     ]
    }
   ],
   "source": [
    "org_array = np.array([3, 1, 9, 5])\n",
    "sort_indices = np.argsort(org_array)\n",
    "print(type(sort_indices))\n",
    "print('행렬 정렬 시 원본 행렬의 인덱스:', sort_indices)"
   ]
  },
  {
   "cell_type": "markdown",
   "id": "cb602b86",
   "metadata": {},
   "source": [
    "내림차순으로 정렬하기 위해서는 [::-1]을 적용한다."
   ]
  },
  {
   "cell_type": "code",
   "execution_count": 17,
   "id": "98d05507",
   "metadata": {},
   "outputs": [
    {
     "name": "stdout",
     "output_type": "stream",
     "text": [
      "행렬 내림차순 정렬 시 원본 행렬의 인덱스: [2 3 0 1]\n"
     ]
    }
   ],
   "source": [
    "org_array = np.array([3, 1, 9, 5])\n",
    "sort_indices_desc = np.argsort(org_array)[::-1]\n",
    "print('행렬 내림차순 정렬 시 원본 행렬의 인덱스:', sort_indices_desc)"
   ]
  },
  {
   "cell_type": "code",
   "execution_count": 18,
   "id": "267ab61c",
   "metadata": {},
   "outputs": [
    {
     "name": "stdout",
     "output_type": "stream",
     "text": [
      "성적 오름차순 정렬 시 score_array의 인덱스: [0 2 4 1 3]\n",
      "성적 오름차순으로 name_array의 이름 출력: ['John' 'Sarah' 'Samuel' 'Mike' 'Kate']\n"
     ]
    }
   ],
   "source": [
    "name_array = np.array(['John', 'Mike', 'Sarah', 'Kate', 'Samuel'])\n",
    "score_array = np.array([78, 95, 84, 98, 88])\n",
    "\n",
    "sort_indices_asc = np.argsort(score_array)\n",
    "print('성적 오름차순 정렬 시 score_array의 인덱스:', sort_indices_asc)\n",
    "print('성적 오름차순으로 name_array의 이름 출력:', name_array[sort_indices_asc])"
   ]
  },
  {
   "cell_type": "markdown",
   "id": "8bbba5c9",
   "metadata": {},
   "source": [
    "## 선형대수 연산 - 행렬 내적과 전치 행렬 구하기"
   ]
  },
  {
   "cell_type": "markdown",
   "id": "37f11da0",
   "metadata": {},
   "source": [
    "### 행렬 내적(행렬 곱)"
   ]
  },
  {
   "cell_type": "markdown",
   "id": "24c2400c",
   "metadata": {},
   "source": [
    "두 행렬 A와 B의 내적은 np.dot()울 이용해 계산한다."
   ]
  },
  {
   "cell_type": "code",
   "execution_count": 19,
   "id": "66981703",
   "metadata": {},
   "outputs": [
    {
     "name": "stdout",
     "output_type": "stream",
     "text": [
      "행렬 내적 결과:\n",
      " [[ 58  64]\n",
      " [139 154]]\n"
     ]
    }
   ],
   "source": [
    "A = np.array([[1, 2, 3],\n",
    "              [4, 5, 6]])\n",
    "B = np.array([[7, 8],\n",
    "              [9, 10],\n",
    "              [11, 12]])\n",
    "dot_product = np.dot(A, B)\n",
    "print('행렬 내적 결과:\\n', dot_product)"
   ]
  },
  {
   "cell_type": "markdown",
   "id": "b4ef849f",
   "metadata": {},
   "source": [
    "### 전치 행렬"
   ]
  },
  {
   "cell_type": "markdown",
   "id": "66395ce6",
   "metadata": {},
   "source": [
    "np.transpose()를 이용해 계산한다."
   ]
  },
  {
   "cell_type": "code",
   "execution_count": 20,
   "id": "f951041f",
   "metadata": {},
   "outputs": [
    {
     "name": "stdout",
     "output_type": "stream",
     "text": [
      "A의 전치 행렬:\n",
      " [[1 3]\n",
      " [2 4]]\n"
     ]
    }
   ],
   "source": [
    "A = np.array([[1, 2],\n",
    "              [3, 4]])\n",
    "transpose_mat = np.transpose(A)\n",
    "print('A의 전치 행렬:\\n', transpose_mat)"
   ]
  }
 ],
 "metadata": {
  "kernelspec": {
   "display_name": "Python 3 (ipykernel)",
   "language": "python",
   "name": "python3"
  },
  "language_info": {
   "codemirror_mode": {
    "name": "ipython",
    "version": 3
   },
   "file_extension": ".py",
   "mimetype": "text/x-python",
   "name": "python",
   "nbconvert_exporter": "python",
   "pygments_lexer": "ipython3",
   "version": "3.10.0"
  }
 },
 "nbformat": 4,
 "nbformat_minor": 5
}
